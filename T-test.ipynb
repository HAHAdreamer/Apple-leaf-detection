{
 "cells": [
  {
   "cell_type": "code",
   "execution_count": 11,
   "metadata": {},
   "outputs": [
    {
     "name": "stdout",
     "output_type": "stream",
     "text": [
      "T-statistic1: -8.138849790505303\n",
      "P-value1: 0.0038785430913389324\n",
      "The difference between the two samples is statistically significant.\n",
      "T-statistic2: -4.535860003794868\n",
      "P-value2: 0.02005754625118462\n",
      "The difference between the two samples is statistically significant.\n"
     ]
    }
   ],
   "source": [
    "import scipy.stats as stats\n",
    "\n",
    "# 定义四组数据\n",
    "scores_H1 = [0.793,0.794,0.792,0.794]       # YOLO v5s      [0.7928,0.7944,0.7921,0.7943]      map79.3%  \n",
    "scores_H2 = [0.819,0.813,0.827,0.824]       # YOLO v5Res    [0.8185,0.8132,0.8267,0.8243]      map82.1%\n",
    "scores_H3 = [0.777,0.769,0.779,0.783]       # YOLO v5n      [0.7771,0.7693,0.7786,0.7831]      map77.7%    \n",
    "scores_H4 = [0.799,0.803,0.802,0.793]       # YOLO v5Res4   [0.7992,0.8031,0.8015,0.7934]      map79.9%\n",
    "\n",
    "# scores_H1 = [0.641,0.686]     原文中的数值\n",
    "# scores_H2 = [0.821,0.726]   \n",
    "\n",
    "\n",
    "# 执行配对样本T检验\n",
    "t_stat1, p_value1 = stats.ttest_rel(scores_H1, scores_H2)\n",
    "t_stat2, p_value2 = stats.ttest_rel(scores_H3, scores_H4)\n",
    "\n",
    "# 打印结果\n",
    "\n",
    "# YOLOv5s：YOLOv5-Res\n",
    "print(\"T-statistic1:\", t_stat1)\n",
    "print(\"P-value1:\", p_value1)\n",
    "\n",
    "# 判断是否具有显著性\n",
    "if p_value1 < 0.05:\n",
    "    print(\"The difference between the two samples is statistically significant.\")\n",
    "else:\n",
    "    print(\"The difference between the two samples is not statistically significant.\")\n",
    "\n",
    "# YOLOv5n：YOLOv5-Res4\n",
    "print(\"T-statistic2:\", t_stat2)\n",
    "print(\"P-value2:\", p_value2)\n",
    "\n",
    "# 判断是否具有显著性\n",
    "if p_value2 < 0.05:\n",
    "    print(\"The difference between the two samples is statistically significant.\")\n",
    "else:\n",
    "    print(\"The difference between the two samples is not statistically significant.\")"
   ]
  }
 ],
 "metadata": {
  "kernelspec": {
   "display_name": "Python 3",
   "language": "python",
   "name": "python3"
  },
  "language_info": {
   "codemirror_mode": {
    "name": "ipython",
    "version": 3
   },
   "file_extension": ".py",
   "mimetype": "text/x-python",
   "name": "python",
   "nbconvert_exporter": "python",
   "pygments_lexer": "ipython3",
   "version": "3.8.8"
  }
 },
 "nbformat": 4,
 "nbformat_minor": 2
}
